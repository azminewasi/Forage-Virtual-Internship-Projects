{
 "metadata": {
  "language_info": {
   "codemirror_mode": {
    "name": "ipython",
    "version": 3
   },
   "file_extension": ".py",
   "mimetype": "text/x-python",
   "name": "python",
   "nbconvert_exporter": "python",
   "pygments_lexer": "ipython3",
   "version": "3.8.5"
  },
  "orig_nbformat": 4,
  "kernelspec": {
   "name": "python3",
   "display_name": "Python 3.8.5 64-bit ('base': conda)"
  },
  "interpreter": {
   "hash": "65d4a3965a819440f3e71cc600ca4f78ceac440cd6e68058a7b8b9e89843c5bc"
  }
 },
 "nbformat": 4,
 "nbformat_minor": 2,
 "cells": [
  {
   "source": [
    "# Importing modules\n",
    "\n"
   ],
   "cell_type": "markdown",
   "metadata": {}
  },
  {
   "cell_type": "code",
   "execution_count": 1,
   "metadata": {},
   "outputs": [],
   "source": [
    "\n",
    "import pandas as pd \n",
    "import matplotlib as plt\n",
    "import numpy as np "
   ]
  },
  {
   "source": [
    "# Importing data"
   ],
   "cell_type": "markdown",
   "metadata": {}
  },
  {
   "cell_type": "code",
   "execution_count": 2,
   "metadata": {},
   "outputs": [],
   "source": [
    "purchase_behaviour=pd.read_csv(\"QVI_purchase_behaviour.csv\")\n",
    "transection_data=pd.read_excel(\"QVI_transaction_data.xlsx\")"
   ]
  },
  {
   "source": [
    "# Exploring data"
   ],
   "cell_type": "markdown",
   "metadata": {}
  },
  {
   "cell_type": "code",
   "execution_count": 4,
   "metadata": {},
   "outputs": [
    {
     "output_type": "execute_result",
     "data": {
      "text/plain": [
       "   LYLTY_CARD_NBR               LIFESTAGE PREMIUM_CUSTOMER\n",
       "0            1000   YOUNG SINGLES/COUPLES          Premium\n",
       "1            1002   YOUNG SINGLES/COUPLES       Mainstream\n",
       "2            1003          YOUNG FAMILIES           Budget\n",
       "3            1004   OLDER SINGLES/COUPLES       Mainstream\n",
       "4            1005  MIDAGE SINGLES/COUPLES       Mainstream"
      ],
      "text/html": "<div>\n<style scoped>\n    .dataframe tbody tr th:only-of-type {\n        vertical-align: middle;\n    }\n\n    .dataframe tbody tr th {\n        vertical-align: top;\n    }\n\n    .dataframe thead th {\n        text-align: right;\n    }\n</style>\n<table border=\"1\" class=\"dataframe\">\n  <thead>\n    <tr style=\"text-align: right;\">\n      <th></th>\n      <th>LYLTY_CARD_NBR</th>\n      <th>LIFESTAGE</th>\n      <th>PREMIUM_CUSTOMER</th>\n    </tr>\n  </thead>\n  <tbody>\n    <tr>\n      <th>0</th>\n      <td>1000</td>\n      <td>YOUNG SINGLES/COUPLES</td>\n      <td>Premium</td>\n    </tr>\n    <tr>\n      <th>1</th>\n      <td>1002</td>\n      <td>YOUNG SINGLES/COUPLES</td>\n      <td>Mainstream</td>\n    </tr>\n    <tr>\n      <th>2</th>\n      <td>1003</td>\n      <td>YOUNG FAMILIES</td>\n      <td>Budget</td>\n    </tr>\n    <tr>\n      <th>3</th>\n      <td>1004</td>\n      <td>OLDER SINGLES/COUPLES</td>\n      <td>Mainstream</td>\n    </tr>\n    <tr>\n      <th>4</th>\n      <td>1005</td>\n      <td>MIDAGE SINGLES/COUPLES</td>\n      <td>Mainstream</td>\n    </tr>\n  </tbody>\n</table>\n</div>"
     },
     "metadata": {},
     "execution_count": 4
    }
   ],
   "source": [
    "purchase_behaviour.head()"
   ]
  },
  {
   "cell_type": "code",
   "execution_count": 5,
   "metadata": {},
   "outputs": [
    {
     "output_type": "execute_result",
     "data": {
      "text/plain": [
       "    DATE  STORE_NBR  LYLTY_CARD_NBR  TXN_ID  PROD_NBR  \\\n",
       "0  43390          1            1000       1         5   \n",
       "1  43599          1            1307     348        66   \n",
       "2  43605          1            1343     383        61   \n",
       "3  43329          2            2373     974        69   \n",
       "4  43330          2            2426    1038       108   \n",
       "\n",
       "                                  PROD_NAME  PROD_QTY  TOT_SALES  \n",
       "0    Natural Chip        Compny SeaSalt175g         2        6.0  \n",
       "1                  CCs Nacho Cheese    175g         3        6.3  \n",
       "2    Smiths Crinkle Cut  Chips Chicken 170g         2        2.9  \n",
       "3    Smiths Chip Thinly  S/Cream&Onion 175g         5       15.0  \n",
       "4  Kettle Tortilla ChpsHny&Jlpno Chili 150g         3       13.8  "
      ],
      "text/html": "<div>\n<style scoped>\n    .dataframe tbody tr th:only-of-type {\n        vertical-align: middle;\n    }\n\n    .dataframe tbody tr th {\n        vertical-align: top;\n    }\n\n    .dataframe thead th {\n        text-align: right;\n    }\n</style>\n<table border=\"1\" class=\"dataframe\">\n  <thead>\n    <tr style=\"text-align: right;\">\n      <th></th>\n      <th>DATE</th>\n      <th>STORE_NBR</th>\n      <th>LYLTY_CARD_NBR</th>\n      <th>TXN_ID</th>\n      <th>PROD_NBR</th>\n      <th>PROD_NAME</th>\n      <th>PROD_QTY</th>\n      <th>TOT_SALES</th>\n    </tr>\n  </thead>\n  <tbody>\n    <tr>\n      <th>0</th>\n      <td>43390</td>\n      <td>1</td>\n      <td>1000</td>\n      <td>1</td>\n      <td>5</td>\n      <td>Natural Chip        Compny SeaSalt175g</td>\n      <td>2</td>\n      <td>6.0</td>\n    </tr>\n    <tr>\n      <th>1</th>\n      <td>43599</td>\n      <td>1</td>\n      <td>1307</td>\n      <td>348</td>\n      <td>66</td>\n      <td>CCs Nacho Cheese    175g</td>\n      <td>3</td>\n      <td>6.3</td>\n    </tr>\n    <tr>\n      <th>2</th>\n      <td>43605</td>\n      <td>1</td>\n      <td>1343</td>\n      <td>383</td>\n      <td>61</td>\n      <td>Smiths Crinkle Cut  Chips Chicken 170g</td>\n      <td>2</td>\n      <td>2.9</td>\n    </tr>\n    <tr>\n      <th>3</th>\n      <td>43329</td>\n      <td>2</td>\n      <td>2373</td>\n      <td>974</td>\n      <td>69</td>\n      <td>Smiths Chip Thinly  S/Cream&amp;Onion 175g</td>\n      <td>5</td>\n      <td>15.0</td>\n    </tr>\n    <tr>\n      <th>4</th>\n      <td>43330</td>\n      <td>2</td>\n      <td>2426</td>\n      <td>1038</td>\n      <td>108</td>\n      <td>Kettle Tortilla ChpsHny&amp;Jlpno Chili 150g</td>\n      <td>3</td>\n      <td>13.8</td>\n    </tr>\n  </tbody>\n</table>\n</div>"
     },
     "metadata": {},
     "execution_count": 5
    }
   ],
   "source": [
    "transection_data.head()"
   ]
  },
  {
   "source": [
    "# Analysing Data"
   ],
   "cell_type": "markdown",
   "metadata": {}
  },
  {
   "source": [
    "### Let's see if the higher sales are due to there being more customers who buy chips."
   ],
   "cell_type": "markdown",
   "metadata": {}
  },
  {
   "cell_type": "code",
   "execution_count": null,
   "metadata": {},
   "outputs": [],
   "source": [
    "purchase_behaviour[\"LIFESTAGE\"].value_counts().plot.bar()\n",
    "plt.show()"
   ]
  },
  {
   "cell_type": "code",
   "execution_count": null,
   "metadata": {},
   "outputs": [],
   "source": []
  }
 ]
}